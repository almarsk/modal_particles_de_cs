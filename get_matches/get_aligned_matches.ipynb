{
 "cells": [
  {
   "cell_type": "markdown",
   "metadata": {},
   "source": [
    "# Extracting aligned samples from the OpenSubtitles corpus"
   ]
  },
  {
   "attachments": {},
   "cell_type": "markdown",
   "metadata": {},
   "source": [
    "(The corpus data is from https://opus.nlpl.eu/TED2020.php which must be cited when using the data.)\n",
    "\n",
    "The corpus contains sentence-aligned data from many languages. The alignment has been done automatically, each sentence is on one line. Using a custom script (based on a script by Tatjana Scheffler), we extracted all instances of 'wohl' from the German (de) part of the Czech-German aligned TED2020 corpus. We included a line above and below the matching line for context. In some cases, two lines containing a match follow each other, then they are listed as one hit (the way 'grep' does). \n",
    "\n",
    "To avoid unwanted matches (as 'obwohl'), we used the first cell to clean the 'grep' results.\n",
    "\n",
    "Finally, we extracted all aligned lines from the Czech corpus that match the German extracted lines. Thus, 'wohl_match_.txt' lists the German instances, and 'wohl-cs.txt' lists the aligned Czech sentences line-by-line. \n",
    "\n",
    "\n",
    "------------\n",
    "Howto:\n",
    "\n",
    "get original hits by:\n",
    "grep -n -B1 -A1 'wohl' TED2020.cs-de.de > wohl.txt\n",
    "\n",
    "then get matching lines in the other language"
   ]
  },
  {
   "cell_type": "code",
   "execution_count": null,
   "metadata": {},
   "outputs": [],
   "source": [
    "import codecs\n",
    "\n",
    "#tok = \"snad\" / \"asi\"\n",
    "tok = \"wohl\"\n",
    "\n",
    "with open(f\"{tok}.txt\", mode=\"r\", encoding=\"UTF-8\") as infile:\n",
    "    all_tok = infile.read().split(\"--\\n\")\n",
    "\n",
    "outfile = codecs.open(f\"{tok}_match.txt\", mode=\"wb\", encoding=\"UTF-8\")\n",
    "\n",
    "#instead of full tokenization of the files, we get all instances of the token + punctuation\n",
    "word_list = [f\"{tok}\", f\"{tok}.\", f\"{tok},\", f\"{tok}:\", f\"{tok}?\", f\"{tok}!\"] \n",
    "\n",
    "c_tok = 0\n",
    "for match in all_tok:\n",
    "    tokens = match.split()\n",
    "    for token in tokens:\n",
    "        if token in word_list:\n",
    "            c_tok += 1\n",
    "            outfile.write(match + \"--\\n\")\n",
    "\n",
    "print(c_tok)\n",
    "outfile.close()\n",
    "\n",
    "#c_tok wohl = 433\n",
    "#c_tok asi = 1488\n",
    "#c_tok snad = 262"
   ]
  },
  {
   "cell_type": "code",
   "execution_count": 36,
   "metadata": {
    "collapsed": true
   },
   "outputs": [],
   "source": [
    "#get german matches for czech hits\n",
    "import sys\n",
    "import codecs\n",
    "sys.stdout = codecs.getwriter('utf8')(sys.stdout)\n",
    "import itertools\n",
    "\n",
    "import re\n",
    "\n",
    "cs_snad = codecs.open('asi_match.txt','r', 'utf-8')\n",
    "outfile = codecs.open ('asi-de.txt', \"wb\", \"utf-8\")\n",
    "de =''\n",
    "with codecs.open('TED2020\\\\TED2020.cs-de.de','r', 'utf-8') as cs_file:\n",
    "    de = cs_file.readlines()\n",
    "\n",
    "   \n",
    "for line in cs_snad:\n",
    "    if line == '--\\n':\n",
    "        outfile.write(line)\n",
    "    else:\n",
    "        m = re.search('^(\\d*)([:-]*)(.*)', line)\n",
    "        linenum, sep, text = m.group(1), m.group(2), m.group(3)\n",
    "        outfile.write(linenum + sep + de[int(linenum)-1])\n",
    "\n",
    "outfile.close()\n",
    "cs_snad.close()\n",
    "    \n"
   ]
  },
  {
   "cell_type": "code",
   "execution_count": 34,
   "metadata": {},
   "outputs": [],
   "source": [
    "#get czech matches for german hits\n",
    "import sys\n",
    "import codecs\n",
    "sys.stdout = codecs.getwriter('utf8')(sys.stdout)\n",
    "import itertools\n",
    "\n",
    "import re\n",
    "\n",
    "ger_wohl = codecs.open('wohl_match.txt','r', 'utf-8')\n",
    "outfile = codecs.open ('wohl-cs.txt', \"wb\", \"utf-8\")\n",
    "cs =''\n",
    "with codecs.open('TED2020\\\\TED2020.cs-de.cs','r', 'utf-8') as cs_file:\n",
    "    cs = cs_file.readlines()\n",
    "\n",
    "   \n",
    "for line in ger_wohl:\n",
    "    if line == '':\n",
    "        continue\n",
    "    elif line == '--\\n':\n",
    "        outfile.write(line)\n",
    "    else:\n",
    "        m = re.search('^(\\d*)([:-]*)(.*)', line)\n",
    "        linenum, sep, text = m.group(1), m.group(2), m.group(3)\n",
    "        outfile.write(linenum + sep + cs[int(linenum)-1])\n",
    "\n",
    "outfile.close()\n",
    "ger_wohl.close()\n",
    "    \n"
   ]
  }
 ],
 "metadata": {
  "kernelspec": {
   "display_name": "Python 3",
   "language": "python",
   "name": "python3"
  },
  "language_info": {
   "codemirror_mode": {
    "name": "ipython",
    "version": 3
   },
   "file_extension": ".py",
   "mimetype": "text/x-python",
   "name": "python",
   "nbconvert_exporter": "python",
   "pygments_lexer": "ipython3",
   "version": "3.9.5"
  },
  "vscode": {
   "interpreter": {
    "hash": "a5aa2f0cdc37d82deccc594526e708c632dc9174681b026af5c438c39004a972"
   }
  }
 },
 "nbformat": 4,
 "nbformat_minor": 2
}
